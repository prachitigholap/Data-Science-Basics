{
  "nbformat": 4,
  "nbformat_minor": 0,
  "metadata": {
    "colab": {
      "provenance": []
    },
    "kernelspec": {
      "name": "python3",
      "display_name": "Python 3"
    },
    "language_info": {
      "name": "python"
    }
  },
  "cells": [
    {
      "cell_type": "markdown",
      "source": [
        "# Set up\n"
      ],
      "metadata": {
        "id": "R365_m8VvW8_"
      }
    },
    {
      "cell_type": "code",
      "execution_count": 1,
      "metadata": {
        "colab": {
          "base_uri": "https://localhost:8080/"
        },
        "id": "0Lz99LV3pHOs",
        "outputId": "d6e658e0-7159-4d53-8c66-61f8a30b6ce2"
      },
      "outputs": [
        {
          "output_type": "stream",
          "name": "stdout",
          "text": [
            "Requirement already satisfied: beautifulsoup4 in /usr/local/lib/python3.10/dist-packages (4.11.2)\n",
            "Requirement already satisfied: soupsieve>1.2 in /usr/local/lib/python3.10/dist-packages (from beautifulsoup4) (2.4.1)\n"
          ]
        }
      ],
      "source": [
        "!pip install beautifulsoup4"
      ]
    },
    {
      "cell_type": "code",
      "source": [
        "from bs4 import BeautifulSoup"
      ],
      "metadata": {
        "id": "MnUL7GcxpWkD"
      },
      "execution_count": 2,
      "outputs": []
    },
    {
      "cell_type": "code",
      "source": [
        "our_html_document = '''\n",
        "<html><head><title>IoT Articles</title></head>\n",
        "<body>\n",
        "<p class='title'><b>2018 Trends: Best New IoT Device Ideas for Data Scientists and Engineers</b></p>\n",
        "\n",
        "<p class='description'>It’s almost 2018 and IoT is on the cusp of an explosive expansion. In this article, I offer you a listing of new IoT device ideas that you can use...\n",
        "<br>\n",
        "<br>\n",
        "It’s almost 2018 and IoT is on the cusp of an explosive expansion. In this article, I offer you a listing of new IoT device ideas that you can use to get practice in designing your first IoT applications.\n",
        "<h1>Looking Back at My Coolest IoT Find in 2017</h1>\n",
        "Before going into detail about best new IoT device ideas, here’s the backstory. <span style=\"text-decoration: underline;\"><strong><a href=\"http://bit.ly/LPlNDJj\">Last month Ericsson Digital invited me</a></strong></span> to tour the Ericsson Studio in Kista, Sweden. Up until that visit, <a href=\"http://www.data-mania.com/blog/m2m-vs-iot/\">IoT</a> had been largely theoretical to me. Of course, I know the usual mumbo-jumbo about wearables and IoT-connected fitness trackers. That stuff is all well and good, but it’s somewhat old hat – plus I am not sure we are really benefiting so much from those, so I’m not that impressed.\n",
        "\n",
        "It wasn’t until I got to the Ericsson Studio that I became extremely impressed by how far IoT has really come. Relying on the promise of the 5g network expansion, IoT-powered smart devices are on the cusp of an explosive growth in adoption. It was Ericsson’s Smart Car that sent me reeling:<a href=\"bit.ly/LPlNDJj\"><img class=\"aligncenter size-full wp-image-3802\" src=\"http://www.data-mania.com/blog/wp-content/uploads/2017/12/new-IoT-device-ideas.jpg\" alt=\"Get your new iot device ideas here\" width=\"1024\" height=\"683\" /></a>\n",
        "\n",
        "This car is connected to Ericsson’s Connected Vehicle Cloud, an IoT platform that manages services for the Smart Cars to which it’s connected. The Volvo pictured above acts as a drop-off location for groceries that have been ordered by its owner.\n",
        "\n",
        "To understand how it works, imagine you’re pulling your normal 9-to-5 and you know you need to grab some groceries on your way home. Well, since you’re smart you’ve used Ericsson IoT platform to connect your car to the local grocery delivery service (<a href=\"http://mat.se/\">Mat.se</a>), so all you need to do is open the Mat.se app and make your usual order. Mat.se automatically handles the payment, grocery selection, delivery, and delivery scheduling. Since your car is IoT-enabled, Mat.se issues its trusted delivery agent a 1-time token to use for opening your car in order to place your groceries in your car for you at 4:40 pm (just before you get off from work).\n",
        "\n",
        "To watch some of the amazing IoT device demos I witnessed at Ericsson Studio, make sure to go <span style=\"text-decoration: underline;\"><strong><a href=\"http://bit.ly/LPlNDJj\">watch the videos on this page</a></strong></span>.\n",
        "<h1>Future Trends for IoT in 2018</h1>\n",
        "New IoT device ideas won’t do you much good unless you at least know the basic technology trends that are set to impact IoT over the next year(s). These include:\n",
        "<ol>\n",
        "    <li><strong>Big Data</strong> &amp; Data Engineering: Sensors that are embedded within IoT devices spin off machine-generated data like it’s going out of style. For IoT to function, the platform must be solidly engineered to handle big data. Be assured, that requires some serious data engineering.</li>\n",
        "    <li><strong>Machine Learning</strong> Data Science: While a lot of IoT devices are still operated according to rules-based decision criteria, the age of artificial intelligence is upon us. IoT will increasingly depend on machine learning algorithms to control device operations so that devices are able to autonomously respond to a complex set of overlapping stimuli.</li>\n",
        "    <li><strong>Blockchain</strong>-Enabled Security: Above all else, IoT networks must be secure. Blockchain technology is primed to meet the security demands that come along with building and expanding the IoT.</li>\n",
        "</ol>\n",
        "<h1>Best New IoT Device Ideas</h1>\n",
        "This listing of new IoT device ideas has been sub-divided according to the main technology upon which the IoT devices are built. Below I’m providing a list of new IoT device ideas, but for detailed instructions on how to build these IoT applications, I recommend the <a href=\"https://click.linksynergy.com/deeplink?id=*JDLXjeE*wk&amp;mid=39197&amp;murl=https%3A%2F%2Fwww.udemy.com%2Ftopic%2Finternet-of-things%2F%3Fsort%3Dhighest-rated\">IoT courses on Udemy</a> (ß Please note: if you purchase a Udemy course through this link, I may receive a small commission), or courses that are available at <a href=\"http://www.skyfilabs.com/iot-online-courses\">SkyFi</a> and <a href=\"https://www.coursera.org/specializations/iot\">Coursera</a>.\n",
        "<h2>Raspberry Pi IoT Ideas</h2>\n",
        "Using Raspberry Pi as open-source hardware, you can build IoT applications that offer any one of the following benefits:\n",
        "<ol>\n",
        "    <li>Enable built-in sensing to build a weather station that measures ambient temperature and humidity</li>\n",
        "    <li>Build a system that detects discrepancies in electrical readings to identify electricity theft</li>\n",
        "    <li>Use IoT to build a Servo that is controlled by motion detection readings</li>\n",
        "    <li>Build a smart control switch that operates devices based on external stimuli. Use this for home automation.</li>\n",
        "    <li>Build a music playing application that enables music for each room in your house</li>\n",
        "    <li>Implement biometrics on IoT-connected devices</li>\n",
        "</ol>\n",
        "<h2>Arduino IoT Ideas</h2>\n",
        "There are a number of new IoT device ideas that deploy Arduino as a microcontroller. These include:\n",
        "<ol>\n",
        "    <li>Integrate Arduino with Android to build a remote-control RGB LED device.</li>\n",
        "    <li>Connect PIR sensors across the IoT to implement a smart building.</li>\n",
        "    <li>Build a temperature and sunlight sensor system to remotely monitor and control the conditions of your garden.</li>\n",
        "    <li>Deploy Arduino and IoT to automate your neighborhood streetlights.</li>\n",
        "    <li>Build a smart irrigation system based on IoT-connected temperature and moisture sensors built-in to your agricultural plants.</li>\n",
        "</ol>\n",
        "[caption id=\"attachment_3807\" align=\"aligncenter\" width=\"300\"]<a href=\"bit.ly/LPlNDJj\"><img class=\"wp-image-3807 size-medium\" src=\"http://www.data-mania.com/blog/wp-content/uploads/2017/12/IMG_3058-300x295.jpg\" alt=\"\" width=\"300\" height=\"295\" /></a> An IoT Chatbot Tree at the Ericsson Studio[/caption]\n",
        "<h2>Wireless (GSM) IoT Ideas</h2>\n",
        "Several new IoT device ideas are developed around the GSM wireless network. Those are:\n",
        "<ol>\n",
        "    <li>Monitor soil moisture to automate agricultural irrigation cycles.</li>\n",
        "    <li>Automate and control the conditions of a greenhouse.</li>\n",
        "    <li>Enable bio-metrics to build a smart security system for your home or office building</li>\n",
        "    <li>Build an autonomously operating fitness application that automatically makes recommendations based on motion detection and heart rate sensors that are embedded on wearable fitness trackers.</li>\n",
        "    <li>Build a healthcare monitoring system that tracks, informs, and automatically alerts healthcare providers based on sensor readings that describe a patients vital statistics (like temperature, pulse, blood pressure, etc).</li>\n",
        "</ol>\n",
        "<h2>IoT Automation Ideas</h2>\n",
        "Almost all new IoT device ideas offer automation benefits, but to outline a few more ideas:\n",
        "<ol>\n",
        "    <li>Build an IoT device that automatically locates and reports the closest nearby parking spot.</li>\n",
        "    <li>Build a motion detection system that automatically issues emails or sms messages to alert home owners of a likely home invasion.</li>\n",
        "    <li>Use temperature sensors connected across the IoT to automatically alert you if your home windows or doors have been left open.</li>\n",
        "    <li>Use bio-metric sensors to build a smart system that automate security for your home or office building</li>\n",
        "</ol>\n",
        "To learn more about IoT and what’s happening on the leading edge, be sure to pop over to Ericsson’s Studio Tour recap and <span style=\"text-decoration: underline;\"><strong><a href=\"http://bit.ly/LPlNDJj\">watch these videos</a></strong></span>.\n",
        "\n",
        "<em>(I captured some of this content on behalf of DevMode Strategies during an invite-only tour of the Ericsson Studio in Kista. Rest assure, the text and opinions are my own</em>)\n",
        "<p class='description'>...</p>\n",
        "'''"
      ],
      "metadata": {
        "id": "gJjLEzE8pvLV"
      },
      "execution_count": 3,
      "outputs": []
    },
    {
      "cell_type": "markdown",
      "source": [
        "# Beautiful Soup Object"
      ],
      "metadata": {
        "id": "SszzsazhvNFe"
      }
    },
    {
      "cell_type": "code",
      "source": [
        "our_soup_object = BeautifulSoup(our_html_document, 'html.parser')\n",
        "print(our_soup_object)"
      ],
      "metadata": {
        "colab": {
          "base_uri": "https://localhost:8080/"
        },
        "id": "H4_8bdNAqPAZ",
        "outputId": "0abbe966-34ad-4342-a614-f263d2add83d"
      },
      "execution_count": 4,
      "outputs": [
        {
          "output_type": "stream",
          "name": "stdout",
          "text": [
            "\n",
            "<html><head><title>IoT Articles</title></head>\n",
            "<body>\n",
            "<p class=\"title\"><b>2018 Trends: Best New IoT Device Ideas for Data Scientists and Engineers</b></p>\n",
            "<p class=\"description\">It’s almost 2018 and IoT is on the cusp of an explosive expansion. In this article, I offer you a listing of new IoT device ideas that you can use...\n",
            "<br/>\n",
            "<br/>\n",
            "It’s almost 2018 and IoT is on the cusp of an explosive expansion. In this article, I offer you a listing of new IoT device ideas that you can use to get practice in designing your first IoT applications.\n",
            "<h1>Looking Back at My Coolest IoT Find in 2017</h1>\n",
            "Before going into detail about best new IoT device ideas, here’s the backstory. <span style=\"text-decoration: underline;\"><strong><a href=\"http://bit.ly/LPlNDJj\">Last month Ericsson Digital invited me</a></strong></span> to tour the Ericsson Studio in Kista, Sweden. Up until that visit, <a href=\"http://www.data-mania.com/blog/m2m-vs-iot/\">IoT</a> had been largely theoretical to me. Of course, I know the usual mumbo-jumbo about wearables and IoT-connected fitness trackers. That stuff is all well and good, but it’s somewhat old hat – plus I am not sure we are really benefiting so much from those, so I’m not that impressed.\n",
            "\n",
            "It wasn’t until I got to the Ericsson Studio that I became extremely impressed by how far IoT has really come. Relying on the promise of the 5g network expansion, IoT-powered smart devices are on the cusp of an explosive growth in adoption. It was Ericsson’s Smart Car that sent me reeling:<a href=\"bit.ly/LPlNDJj\"><img alt=\"Get your new iot device ideas here\" class=\"aligncenter size-full wp-image-3802\" height=\"683\" src=\"http://www.data-mania.com/blog/wp-content/uploads/2017/12/new-IoT-device-ideas.jpg\" width=\"1024\"/></a>\n",
            "\n",
            "This car is connected to Ericsson’s Connected Vehicle Cloud, an IoT platform that manages services for the Smart Cars to which it’s connected. The Volvo pictured above acts as a drop-off location for groceries that have been ordered by its owner.\n",
            "\n",
            "To understand how it works, imagine you’re pulling your normal 9-to-5 and you know you need to grab some groceries on your way home. Well, since you’re smart you’ve used Ericsson IoT platform to connect your car to the local grocery delivery service (<a href=\"http://mat.se/\">Mat.se</a>), so all you need to do is open the Mat.se app and make your usual order. Mat.se automatically handles the payment, grocery selection, delivery, and delivery scheduling. Since your car is IoT-enabled, Mat.se issues its trusted delivery agent a 1-time token to use for opening your car in order to place your groceries in your car for you at 4:40 pm (just before you get off from work).\n",
            "\n",
            "To watch some of the amazing IoT device demos I witnessed at Ericsson Studio, make sure to go <span style=\"text-decoration: underline;\"><strong><a href=\"http://bit.ly/LPlNDJj\">watch the videos on this page</a></strong></span>.\n",
            "<h1>Future Trends for IoT in 2018</h1>\n",
            "New IoT device ideas won’t do you much good unless you at least know the basic technology trends that are set to impact IoT over the next year(s). These include:\n",
            "<ol>\n",
            "<li><strong>Big Data</strong> &amp; Data Engineering: Sensors that are embedded within IoT devices spin off machine-generated data like it’s going out of style. For IoT to function, the platform must be solidly engineered to handle big data. Be assured, that requires some serious data engineering.</li>\n",
            "<li><strong>Machine Learning</strong> Data Science: While a lot of IoT devices are still operated according to rules-based decision criteria, the age of artificial intelligence is upon us. IoT will increasingly depend on machine learning algorithms to control device operations so that devices are able to autonomously respond to a complex set of overlapping stimuli.</li>\n",
            "<li><strong>Blockchain</strong>-Enabled Security: Above all else, IoT networks must be secure. Blockchain technology is primed to meet the security demands that come along with building and expanding the IoT.</li>\n",
            "</ol>\n",
            "<h1>Best New IoT Device Ideas</h1>\n",
            "This listing of new IoT device ideas has been sub-divided according to the main technology upon which the IoT devices are built. Below I’m providing a list of new IoT device ideas, but for detailed instructions on how to build these IoT applications, I recommend the <a href=\"https://click.linksynergy.com/deeplink?id=*JDLXjeE*wk&amp;mid=39197&amp;murl=https%3A%2F%2Fwww.udemy.com%2Ftopic%2Finternet-of-things%2F%3Fsort%3Dhighest-rated\">IoT courses on Udemy</a> (ß Please note: if you purchase a Udemy course through this link, I may receive a small commission), or courses that are available at <a href=\"http://www.skyfilabs.com/iot-online-courses\">SkyFi</a> and <a href=\"https://www.coursera.org/specializations/iot\">Coursera</a>.\n",
            "<h2>Raspberry Pi IoT Ideas</h2>\n",
            "Using Raspberry Pi as open-source hardware, you can build IoT applications that offer any one of the following benefits:\n",
            "<ol>\n",
            "<li>Enable built-in sensing to build a weather station that measures ambient temperature and humidity</li>\n",
            "<li>Build a system that detects discrepancies in electrical readings to identify electricity theft</li>\n",
            "<li>Use IoT to build a Servo that is controlled by motion detection readings</li>\n",
            "<li>Build a smart control switch that operates devices based on external stimuli. Use this for home automation.</li>\n",
            "<li>Build a music playing application that enables music for each room in your house</li>\n",
            "<li>Implement biometrics on IoT-connected devices</li>\n",
            "</ol>\n",
            "<h2>Arduino IoT Ideas</h2>\n",
            "There are a number of new IoT device ideas that deploy Arduino as a microcontroller. These include:\n",
            "<ol>\n",
            "<li>Integrate Arduino with Android to build a remote-control RGB LED device.</li>\n",
            "<li>Connect PIR sensors across the IoT to implement a smart building.</li>\n",
            "<li>Build a temperature and sunlight sensor system to remotely monitor and control the conditions of your garden.</li>\n",
            "<li>Deploy Arduino and IoT to automate your neighborhood streetlights.</li>\n",
            "<li>Build a smart irrigation system based on IoT-connected temperature and moisture sensors built-in to your agricultural plants.</li>\n",
            "</ol>\n",
            "[caption id=\"attachment_3807\" align=\"aligncenter\" width=\"300\"]<a href=\"bit.ly/LPlNDJj\"><img alt=\"\" class=\"wp-image-3807 size-medium\" height=\"295\" src=\"http://www.data-mania.com/blog/wp-content/uploads/2017/12/IMG_3058-300x295.jpg\" width=\"300\"/></a> An IoT Chatbot Tree at the Ericsson Studio[/caption]\n",
            "<h2>Wireless (GSM) IoT Ideas</h2>\n",
            "Several new IoT device ideas are developed around the GSM wireless network. Those are:\n",
            "<ol>\n",
            "<li>Monitor soil moisture to automate agricultural irrigation cycles.</li>\n",
            "<li>Automate and control the conditions of a greenhouse.</li>\n",
            "<li>Enable bio-metrics to build a smart security system for your home or office building</li>\n",
            "<li>Build an autonomously operating fitness application that automatically makes recommendations based on motion detection and heart rate sensors that are embedded on wearable fitness trackers.</li>\n",
            "<li>Build a healthcare monitoring system that tracks, informs, and automatically alerts healthcare providers based on sensor readings that describe a patients vital statistics (like temperature, pulse, blood pressure, etc).</li>\n",
            "</ol>\n",
            "<h2>IoT Automation Ideas</h2>\n",
            "Almost all new IoT device ideas offer automation benefits, but to outline a few more ideas:\n",
            "<ol>\n",
            "<li>Build an IoT device that automatically locates and reports the closest nearby parking spot.</li>\n",
            "<li>Build a motion detection system that automatically issues emails or sms messages to alert home owners of a likely home invasion.</li>\n",
            "<li>Use temperature sensors connected across the IoT to automatically alert you if your home windows or doors have been left open.</li>\n",
            "<li>Use bio-metric sensors to build a smart system that automate security for your home or office building</li>\n",
            "</ol>\n",
            "To learn more about IoT and what’s happening on the leading edge, be sure to pop over to Ericsson’s Studio Tour recap and <span style=\"text-decoration: underline;\"><strong><a href=\"http://bit.ly/LPlNDJj\">watch these videos</a></strong></span>.\n",
            "\n",
            "<em>(I captured some of this content on behalf of DevMode Strategies during an invite-only tour of the Ericsson Studio in Kista. Rest assure, the text and opinions are my own</em>)\n",
            "<p class=\"description\">...</p>\n",
            "</p></body></html>\n"
          ]
        }
      ]
    },
    {
      "cell_type": "code",
      "source": [
        "print(our_soup_object.prettify()[300:700])"
      ],
      "metadata": {
        "colab": {
          "base_uri": "https://localhost:8080/"
        },
        "id": "5MAPMnF7q51M",
        "outputId": "ca8ba94e-20aa-47dd-e094-1020a82b98b6"
      },
      "execution_count": 5,
      "outputs": [
        {
          "output_type": "stream",
          "name": "stdout",
          "text": [
            " I offer you a listing of new IoT device ideas that you can use...\n",
            "   <br/>\n",
            "   <br/>\n",
            "   It’s almost 2018 and IoT is on the cusp of an explosive expansion. In this article, I offer you a listing of new IoT device ideas that you can use to get practice in designing your first IoT applications.\n",
            "   <h1>\n",
            "    Looking Back at My Coolest IoT Find in 2017\n",
            "   </h1>\n",
            "   Before going into detail about best new\n"
          ]
        }
      ]
    },
    {
      "cell_type": "markdown",
      "source": [
        "# Tag Object"
      ],
      "metadata": {
        "id": "l_5-oEh8vRTF"
      }
    },
    {
      "cell_type": "code",
      "source": [
        "soup_object = BeautifulSoup('<h1 attribute_1 = \"Heading Level 1\">Future Trends for Iot</h1>', \"lxml\")\n",
        "\n",
        "tag = soup_object.h1\n",
        "type(tag)\n"
      ],
      "metadata": {
        "colab": {
          "base_uri": "https://localhost:8080/"
        },
        "id": "z0JoxFsivVKO",
        "outputId": "4d44e2f3-39f1-4e84-b608-4c93e41e2b8b"
      },
      "execution_count": 6,
      "outputs": [
        {
          "output_type": "execute_result",
          "data": {
            "text/plain": [
              "bs4.element.Tag"
            ]
          },
          "metadata": {},
          "execution_count": 6
        }
      ]
    },
    {
      "cell_type": "code",
      "source": [
        "print(tag)"
      ],
      "metadata": {
        "colab": {
          "base_uri": "https://localhost:8080/"
        },
        "id": "jtqA3N78whPI",
        "outputId": "63f62f81-76de-4607-da05-80f9578be856"
      },
      "execution_count": 7,
      "outputs": [
        {
          "output_type": "stream",
          "name": "stdout",
          "text": [
            "<h1 attribute_1=\"Heading Level 1\">Future Trends for Iot</h1>\n"
          ]
        }
      ]
    },
    {
      "cell_type": "code",
      "source": [
        "tag.name"
      ],
      "metadata": {
        "colab": {
          "base_uri": "https://localhost:8080/",
          "height": 0
        },
        "id": "NMUXmNQYwxX-",
        "outputId": "044e420b-1ae4-4bde-9cf3-d7a2e77d81b9"
      },
      "execution_count": 8,
      "outputs": [
        {
          "output_type": "execute_result",
          "data": {
            "text/plain": [
              "'h1'"
            ],
            "application/vnd.google.colaboratory.intrinsic+json": {
              "type": "string"
            }
          },
          "metadata": {},
          "execution_count": 8
        }
      ]
    },
    {
      "cell_type": "code",
      "source": [
        "tag.name = 'heading 1'\n",
        "tag"
      ],
      "metadata": {
        "colab": {
          "base_uri": "https://localhost:8080/"
        },
        "id": "wsP0918qwyNC",
        "outputId": "11bae2be-b354-4280-ac75-74c4bdd02e9e"
      },
      "execution_count": 9,
      "outputs": [
        {
          "output_type": "execute_result",
          "data": {
            "text/plain": [
              "<heading 1 attribute_1=\"Heading Level 1\">Future Trends for Iot</heading 1>"
            ]
          },
          "metadata": {},
          "execution_count": 9
        }
      ]
    },
    {
      "cell_type": "code",
      "source": [
        "tag.name"
      ],
      "metadata": {
        "colab": {
          "base_uri": "https://localhost:8080/",
          "height": 0
        },
        "id": "xOZ9DsI3xCli",
        "outputId": "c53082db-fa60-4e87-efeb-29f61c566bc0"
      },
      "execution_count": 10,
      "outputs": [
        {
          "output_type": "execute_result",
          "data": {
            "text/plain": [
              "'heading 1'"
            ],
            "application/vnd.google.colaboratory.intrinsic+json": {
              "type": "string"
            }
          },
          "metadata": {},
          "execution_count": 10
        }
      ]
    },
    {
      "cell_type": "markdown",
      "source": [
        "# Tag Attributes"
      ],
      "metadata": {
        "id": "RloC2YFe4D_P"
      }
    },
    {
      "cell_type": "code",
      "source": [
        "soup_object = BeautifulSoup('<h1 attribute_1 = \"Heading Level 1\">Future Trends for Iot</h1>', \"lxml\")\n",
        "tag = soup_object.h1\n",
        "tag"
      ],
      "metadata": {
        "colab": {
          "base_uri": "https://localhost:8080/"
        },
        "id": "b-5-In0k4AK7",
        "outputId": "9b1e9df5-fb77-4957-aac6-5cd4a85bc45c"
      },
      "execution_count": 11,
      "outputs": [
        {
          "output_type": "execute_result",
          "data": {
            "text/plain": [
              "<h1 attribute_1=\"Heading Level 1\">Future Trends for Iot</h1>"
            ]
          },
          "metadata": {},
          "execution_count": 11
        }
      ]
    },
    {
      "cell_type": "code",
      "source": [
        "tag['attribute_1']"
      ],
      "metadata": {
        "colab": {
          "base_uri": "https://localhost:8080/",
          "height": 0
        },
        "id": "JbgS2aJA6arv",
        "outputId": "8bfdc62e-1a88-4f11-e46a-2ca4c8227712"
      },
      "execution_count": 12,
      "outputs": [
        {
          "output_type": "execute_result",
          "data": {
            "text/plain": [
              "'Heading Level 1'"
            ],
            "application/vnd.google.colaboratory.intrinsic+json": {
              "type": "string"
            }
          },
          "metadata": {},
          "execution_count": 12
        }
      ]
    },
    {
      "cell_type": "code",
      "source": [
        "tag.attrs"
      ],
      "metadata": {
        "colab": {
          "base_uri": "https://localhost:8080/"
        },
        "id": "rs43bGxK6kIh",
        "outputId": "48d7e6a0-625f-4027-fb3f-a35156f6d554"
      },
      "execution_count": 13,
      "outputs": [
        {
          "output_type": "execute_result",
          "data": {
            "text/plain": [
              "{'attribute_1': 'Heading Level 1'}"
            ]
          },
          "metadata": {},
          "execution_count": 13
        }
      ]
    },
    {
      "cell_type": "code",
      "source": [
        "tag['atrribute_2'] = 'Heading level 1'\n",
        "tag.attrs"
      ],
      "metadata": {
        "colab": {
          "base_uri": "https://localhost:8080/"
        },
        "id": "vq_v2Vfv6qOe",
        "outputId": "82399ad5-2e8b-40ac-d785-2930a948627f"
      },
      "execution_count": 14,
      "outputs": [
        {
          "output_type": "execute_result",
          "data": {
            "text/plain": [
              "{'attribute_1': 'Heading Level 1', 'atrribute_2': 'Heading level 1'}"
            ]
          },
          "metadata": {},
          "execution_count": 14
        }
      ]
    },
    {
      "cell_type": "code",
      "source": [
        "tag"
      ],
      "metadata": {
        "colab": {
          "base_uri": "https://localhost:8080/"
        },
        "id": "-oeQaY2g68rj",
        "outputId": "9db46cd4-aa0a-40cf-8f70-f330f210acba"
      },
      "execution_count": 15,
      "outputs": [
        {
          "output_type": "execute_result",
          "data": {
            "text/plain": [
              "<h1 atrribute_2=\"Heading level 1\" attribute_1=\"Heading Level 1\">Future Trends for Iot</h1>"
            ]
          },
          "metadata": {},
          "execution_count": 15
        }
      ]
    },
    {
      "cell_type": "code",
      "source": [
        "del tag['attribute_2']\n",
        "tag"
      ],
      "metadata": {
        "colab": {
          "base_uri": "https://localhost:8080/"
        },
        "id": "-1R_Lr7b7Drk",
        "outputId": "f285a481-aa7d-4b74-d96d-853ba0cef779"
      },
      "execution_count": 16,
      "outputs": [
        {
          "output_type": "execute_result",
          "data": {
            "text/plain": [
              "<h1 atrribute_2=\"Heading level 1\" attribute_1=\"Heading Level 1\">Future Trends for Iot</h1>"
            ]
          },
          "metadata": {},
          "execution_count": 16
        }
      ]
    },
    {
      "cell_type": "markdown",
      "source": [
        "# Navigating a parse tree using tags"
      ],
      "metadata": {
        "id": "1Ps6e-rMHZH9"
      }
    },
    {
      "cell_type": "code",
      "source": [
        "our_soup_object.head"
      ],
      "metadata": {
        "id": "ATL6YeGK7M4N",
        "colab": {
          "base_uri": "https://localhost:8080/"
        },
        "outputId": "f689abf7-e64f-443a-99b4-ad3fc3f06683"
      },
      "execution_count": 17,
      "outputs": [
        {
          "output_type": "execute_result",
          "data": {
            "text/plain": [
              "<head><title>IoT Articles</title></head>"
            ]
          },
          "metadata": {},
          "execution_count": 17
        }
      ]
    },
    {
      "cell_type": "code",
      "source": [
        "our_soup_object.title"
      ],
      "metadata": {
        "colab": {
          "base_uri": "https://localhost:8080/"
        },
        "id": "SbicydFgxLng",
        "outputId": "1a77e323-1e5e-4123-dd55-59ac0c897f9c"
      },
      "execution_count": 18,
      "outputs": [
        {
          "output_type": "execute_result",
          "data": {
            "text/plain": [
              "<title>IoT Articles</title>"
            ]
          },
          "metadata": {},
          "execution_count": 18
        }
      ]
    },
    {
      "cell_type": "code",
      "source": [
        "our_soup_object.body.b"
      ],
      "metadata": {
        "colab": {
          "base_uri": "https://localhost:8080/"
        },
        "id": "4G9GC_s_xRRl",
        "outputId": "6b140047-8de3-40cb-9e63-c34362c2752a"
      },
      "execution_count": 19,
      "outputs": [
        {
          "output_type": "execute_result",
          "data": {
            "text/plain": [
              "<b>2018 Trends: Best New IoT Device Ideas for Data Scientists and Engineers</b>"
            ]
          },
          "metadata": {},
          "execution_count": 19
        }
      ]
    },
    {
      "cell_type": "code",
      "source": [
        "our_soup_object.li"
      ],
      "metadata": {
        "colab": {
          "base_uri": "https://localhost:8080/"
        },
        "id": "na4utEbixfmB",
        "outputId": "f1b53190-dc23-4392-ed5d-5113569502fc"
      },
      "execution_count": 20,
      "outputs": [
        {
          "output_type": "execute_result",
          "data": {
            "text/plain": [
              "<li><strong>Big Data</strong> &amp; Data Engineering: Sensors that are embedded within IoT devices spin off machine-generated data like it’s going out of style. For IoT to function, the platform must be solidly engineered to handle big data. Be assured, that requires some serious data engineering.</li>"
            ]
          },
          "metadata": {},
          "execution_count": 20
        }
      ]
    },
    {
      "cell_type": "code",
      "source": [
        "our_soup_object.a"
      ],
      "metadata": {
        "colab": {
          "base_uri": "https://localhost:8080/"
        },
        "id": "DjNFfbroxpox",
        "outputId": "28d40ab6-6d68-46a9-91ef-9b8a64d10166"
      },
      "execution_count": 21,
      "outputs": [
        {
          "output_type": "execute_result",
          "data": {
            "text/plain": [
              "<a href=\"http://bit.ly/LPlNDJj\">Last month Ericsson Digital invited me</a>"
            ]
          },
          "metadata": {},
          "execution_count": 21
        }
      ]
    },
    {
      "cell_type": "code",
      "source": [
        "first_link = our_soup_object.a\n",
        "print(first_link)"
      ],
      "metadata": {
        "colab": {
          "base_uri": "https://localhost:8080/"
        },
        "id": "Ln25Cs6Sxsb3",
        "outputId": "8fcd8106-3926-4ec7-cbaf-497c02d655c9"
      },
      "execution_count": 22,
      "outputs": [
        {
          "output_type": "stream",
          "name": "stdout",
          "text": [
            "<a href=\"http://bit.ly/LPlNDJj\">Last month Ericsson Digital invited me</a>\n"
          ]
        }
      ]
    },
    {
      "cell_type": "code",
      "source": [
        "first_link.parent"
      ],
      "metadata": {
        "colab": {
          "base_uri": "https://localhost:8080/"
        },
        "id": "bE_KwV59zFds",
        "outputId": "318e3088-0072-4c00-ac25-83d9fb722d0d"
      },
      "execution_count": 23,
      "outputs": [
        {
          "output_type": "execute_result",
          "data": {
            "text/plain": [
              "<strong><a href=\"http://bit.ly/LPlNDJj\">Last month Ericsson Digital invited me</a></strong>"
            ]
          },
          "metadata": {},
          "execution_count": 23
        }
      ]
    },
    {
      "cell_type": "code",
      "source": [
        "first_link.string"
      ],
      "metadata": {
        "colab": {
          "base_uri": "https://localhost:8080/",
          "height": 36
        },
        "id": "uPzRbH2gzLNk",
        "outputId": "b2e98fd5-c847-4a46-8f8c-b39f28defe9b"
      },
      "execution_count": 24,
      "outputs": [
        {
          "output_type": "execute_result",
          "data": {
            "text/plain": [
              "'Last month Ericsson Digital invited me'"
            ],
            "application/vnd.google.colaboratory.intrinsic+json": {
              "type": "string"
            }
          },
          "metadata": {},
          "execution_count": 24
        }
      ]
    },
    {
      "cell_type": "code",
      "source": [
        "first_link.string.parent"
      ],
      "metadata": {
        "colab": {
          "base_uri": "https://localhost:8080/"
        },
        "id": "ld_es7pFze55",
        "outputId": "b4da3ec6-8f72-4cc0-b879-3e21cbae8e1b"
      },
      "execution_count": 25,
      "outputs": [
        {
          "output_type": "execute_result",
          "data": {
            "text/plain": [
              "<a href=\"http://bit.ly/LPlNDJj\">Last month Ericsson Digital invited me</a>"
            ]
          },
          "metadata": {},
          "execution_count": 25
        }
      ]
    },
    {
      "cell_type": "markdown",
      "source": [
        "# Parsed Data in BeautifulSoup"
      ],
      "metadata": {
        "id": "BcAe9PD8ztS9"
      }
    },
    {
      "cell_type": "code",
      "source": [
        "import urllib\n",
        "import urllib.request\n",
        "import re"
      ],
      "metadata": {
        "id": "IEyQFWrLzkOp"
      },
      "execution_count": 26,
      "outputs": []
    },
    {
      "cell_type": "code",
      "source": [
        "with urllib.request.urlopen('https://raw.githubusercontent.com/BigDataGal/Data-Mania-Demos/master/IoT-2018.html') as response:\n",
        "  html = response.read()"
      ],
      "metadata": {
        "id": "wW9h6oWN0r5j"
      },
      "execution_count": 27,
      "outputs": []
    },
    {
      "cell_type": "code",
      "source": [
        "soup = BeautifulSoup(html, \"lxml\")\n",
        "type(soup)"
      ],
      "metadata": {
        "colab": {
          "base_uri": "https://localhost:8080/"
        },
        "id": "r6-Xd-nh1O-n",
        "outputId": "a57f37da-15f2-4b67-fa27-68c1d613e9a2"
      },
      "execution_count": 28,
      "outputs": [
        {
          "output_type": "execute_result",
          "data": {
            "text/plain": [
              "bs4.BeautifulSoup"
            ]
          },
          "metadata": {},
          "execution_count": 28
        }
      ]
    },
    {
      "cell_type": "code",
      "source": [
        "text_only = soup.get_text()\n",
        "print(text_only)"
      ],
      "metadata": {
        "colab": {
          "base_uri": "https://localhost:8080/"
        },
        "id": "773x6W_K1YEQ",
        "outputId": "cf979ecf-4bde-469f-954f-1f8112eb6352"
      },
      "execution_count": 30,
      "outputs": [
        {
          "output_type": "stream",
          "name": "stdout",
          "text": [
            "IoT Articles\n",
            "\n",
            "2018 Trends: Best New IoT Device Ideas for Data Scientists and Engineers\n",
            "It’s almost 2018 and IoT is on the cusp of an explosive expansion. In this article, I offer you a listing of new IoT device ideas that you can use...\r\n",
            "\n",
            "\r\n",
            "It’s almost 2018 and IoT is on the cusp of an explosive expansion. In this article, I offer you a listing of new IoT device ideas that you can use to get practice in designing your first IoT applications.\r\n",
            "Looking Back at My Coolest IoT Find in 2017\r\n",
            "Before going into detail about best new IoT device ideas, here’s the backstory. Last month Ericsson Digital invited me to tour the Ericsson Studio in Kista, Sweden. Up until that visit, IoT had been largely theoretical to me. Of course, I know the usual mumbo-jumbo about wearables and IoT-connected fitness trackers. That stuff is all well and good, but it’s somewhat old hat – plus I am not sure we are really benefiting so much from those, so I’m not that impressed.\r\n",
            "\r\n",
            "It wasn’t until I got to the Ericsson Studio that I became extremely impressed by how far IoT has really come. Relying on the promise of the 5g network expansion, IoT-powered smart devices are on the cusp of an explosive growth in adoption. It was Ericsson’s Smart Car that sent me reeling:\r\n",
            "\r\n",
            "This car is connected to Ericsson’s Connected Vehicle Cloud, an IoT platform that manages services for the Smart Cars to which it’s connected. The Volvo pictured above acts as a drop-off location for groceries that have been ordered by its owner.\r\n",
            "\r\n",
            "To understand how it works, imagine you’re pulling your normal 9-to-5 and you know you need to grab some groceries on your way home. Well, since you’re smart you’ve used Ericsson IoT platform to connect your car to the local grocery delivery service (Mat.se), so all you need to do is open the Mat.se app and make your usual order. Mat.se automatically handles the payment, grocery selection, delivery, and delivery scheduling. Since your car is IoT-enabled, Mat.se issues its trusted delivery agent a 1-time token to use for opening your car in order to place your groceries in your car for you at 4:40 pm (just before you get off from work).\r\n",
            "\r\n",
            "To watch some of the amazing IoT device demos I witnessed at Ericsson Studio, make sure to go watch the videos on this page.\r\n",
            "Future Trends for IoT in 2018\r\n",
            "New IoT device ideas won’t do you much good unless you at least know the basic technology trends that are set to impact IoT over the next year(s). These include:\r\n",
            "\n",
            "Big Data & Data Engineering: Sensors that are embedded within IoT devices spin off machine-generated data like it’s going out of style. For IoT to function, the platform must be solidly engineered to handle big data. Be assured, that requires some serious data engineering.\n",
            "Machine Learning Data Science: While a lot of IoT devices are still operated according to rules-based decision criteria, the age of artificial intelligence is upon us. IoT will increasingly depend on machine learning algorithms to control device operations so that devices are able to autonomously respond to a complex set of overlapping stimuli.\n",
            "Blockchain-Enabled Security: Above all else, IoT networks must be secure. Blockchain technology is primed to meet the security demands that come along with building and expanding the IoT.\n",
            "\n",
            "Best New IoT Device Ideas\r\n",
            "This listing of new IoT device ideas has been sub-divided according to the main technology upon which the IoT devices are built. Below I’m providing a list of new IoT device ideas, but for detailed instructions on how to build these IoT applications, I recommend the IoT courses on Udemy (ß Please note: if you purchase a Udemy course through this link, I may receive a small commission), or courses that are available at SkyFi and Coursera.\r\n",
            "Raspberry Pi IoT Ideas\r\n",
            "Using Raspberry Pi as open-source hardware, you can build IoT applications that offer any one of the following benefits:\r\n",
            "\n",
            "Enable built-in sensing to build a weather station that measures ambient temperature and humidity\n",
            "Build a system that detects discrepancies in electrical readings to identify electricity theft\n",
            "Use IoT to build a Servo that is controlled by motion detection readings\n",
            "Build a smart control switch that operates devices based on external stimuli. Use this for home automation.\n",
            "Build a music playing application that enables music for each room in your house\n",
            "Implement biometrics on IoT-connected devices\n",
            "\n",
            "Arduino IoT Ideas\r\n",
            "There are a number of new IoT device ideas that deploy Arduino as a microcontroller. These include:\r\n",
            "\n",
            "Integrate Arduino with Android to build a remote-control RGB LED device.\n",
            "Connect PIR sensors across the IoT to implement a smart building.\n",
            "Build a temperature and sunlight sensor system to remotely monitor and control the conditions of your garden.\n",
            "Deploy Arduino and IoT to automate your neighborhood streetlights.\n",
            "Build a smart irrigation system based on IoT-connected temperature and moisture sensors built-in to your agricultural plants.\n",
            "\r\n",
            "[caption id=\"attachment_3807\" align=\"aligncenter\" width=\"300\"] An IoT Chatbot Tree at the Ericsson Studio[/caption]\r\n",
            "Wireless (GSM) IoT Ideas\r\n",
            "Several new IoT device ideas are developed around the GSM wireless network. Those are:\r\n",
            "\n",
            "Monitor soil moisture to automate agricultural irrigation cycles.\n",
            "Automate and control the conditions of a greenhouse.\n",
            "Enable bio-metrics to build a smart security system for your home or office building\n",
            "Build an autonomously operating fitness application that automatically makes recommendations based on motion detection and heart rate sensors that are embedded on wearable fitness trackers.\n",
            "Build a healthcare monitoring system that tracks, informs, and automatically alerts healthcare providers based on sensor readings that describe a patients vital statistics (like temperature, pulse, blood pressure, etc).\n",
            "\n",
            "IoT Automation Ideas\r\n",
            "Almost all new IoT device ideas offer automation benefits, but to outline a few more ideas:\r\n",
            "\n",
            "Build an IoT device that automatically locates and reports the closest nearby parking spot.\n",
            "Build a motion detection system that automatically issues emails or sms messages to alert home owners of a likely home invasion.\n",
            "Use temperature sensors connected across the IoT to automatically alert you if your home windows or doors have been left open.\n",
            "Use bio-metric sensors to build a smart system that automate security for your home or office building\n",
            "\r\n",
            "To learn more about IoT and what’s happening on the leading edge, be sure to pop over to Ericsson’s Studio Tour recap and watch these videos.\r\n",
            "\r\n",
            "(I captured some of this content on behalf of DevMode Strategies during an invite-only tour of the Ericsson Studio in Kista. Rest assure, the text and opinions are my own)\r\n",
            "...\n"
          ]
        }
      ]
    }
  ]
}
